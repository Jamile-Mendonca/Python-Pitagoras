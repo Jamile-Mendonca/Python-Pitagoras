{
 "cells": [
  {
   "cell_type": "code",
   "execution_count": null,
   "metadata": {},
   "outputs": [],
   "source": [
    "x=10\n",
    "nome = \"aluno\"\n",
    "nota = 8.75\n",
    "fez_inscrição = True\n",
    "\n",
    "print(type(x))\n",
    "print(type(nome))\n",
    "print(type(nota))\n",
    "print(type(fez_inscrição))\n",
    "\n",
    "nome = input(\"digite um nome:\")\n",
    "print(nome)\n",
    "\n",
    "#Modo1 - usando formatadores de caracteres para imprimir variaveis e texto\n",
    "print(\"Ola %s, bem vindo a disciplina de programação. Parabéns pelo seu primeiro hello world\" % (nome))\n",
    "\n",
    "#Modo2 - usando a função format () para imprimir variavel e texto\n",
    "print(\"Ola {}, bem vindo a disciplina de programação. Parabéns pelo seu primeiro hello world\".format(nome))\n",
    "\n",
    "#Modo3 - usando strings formatadas\n",
    "print(f\"Ola {nome}, bem vindo a disciplina de programação. Parabéns pelo seu primeiro hello world\")\n",
    "\n",
    "#Operações\n",
    "operacao_1 = 2 + 3 * 5\n",
    "operacao_2 = (2 + 3) *5\n",
    "operacao_3 = 4 /2 ** 2\n",
    "operacao_4 = 13 % 3 + 4\n",
    "\n",
    "print(f\"Resultado em operacao_1 = {operacao_1}\")\n",
    "print(f\"Resultado em operacao_2 = {operacao_2}\")\n",
    "print(f\"Resultado em operacao_3 = {operacao_3}\")\n",
    "print(f\"Resultado em operacao_4 = {operacao_4}\")\n",
    "\n",
    "#Equação 2ºgrau\n",
    "a = 2\n",
    "b = 0.5\n",
    "c = 1\n",
    "x = input(\"Digite o valor de x: \")\n",
    "x = float(x) #converao de string para tipo numerico\n",
    "y = a * x ** 2 + b * x + c\n",
    "print(f\"O resultado de y para x = {x} é {y}.\")\n",
    "\n",
    "#Equacao 1º grau\n",
    "c = 200 #valor da constante\n",
    "mes = input(\"Digite o mês que deseja saber o resultado: \")\n",
    "mes = int(mes) #conversao para numerico\n",
    "r = c * mes\n",
    "print(f\"A quantidade de peças para o mês {mes} será {r}\")\n"
   ]
  }
 ],
 "metadata": {
  "language_info": {
   "name": "python"
  },
  "orig_nbformat": 4
 },
 "nbformat": 4,
 "nbformat_minor": 2
}
