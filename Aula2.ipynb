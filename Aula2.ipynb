{
 "cells": [
  {
   "cell_type": "code",
   "execution_count": null,
   "metadata": {},
   "outputs": [],
   "source": [
    "a = 5\n",
    "b = 10\n",
    "if a < b:\n",
    "  print(\"a é menor do que b\")\n",
    "  r = a + b\n",
    "  print(r)"
   ]
  },
  {
   "cell_type": "code",
   "execution_count": null,
   "metadata": {},
   "outputs": [],
   "source": [
    "a = 10\n",
    "b = 5\n",
    "\n",
    "if a < b:\n",
    "  print(\"a é menor do que b\")\n",
    "  r = a + b\n",
    "  print (r)\n",
    "else:\n",
    "    print(\"a é maior do que b\")\n",
    "    r = a - b\n",
    "    print(r)"
   ]
  },
  {
   "cell_type": "code",
   "execution_count": null,
   "metadata": {},
   "outputs": [],
   "source": [
    "codigo_compra = 5111\n",
    "\n",
    "if codigo_compra == 5222:\n",
    "  print(\"Compra á vista.\")\n",
    "elif codigo_compra == 5333:\n",
    "  print(\"Compra á prazo no boleto.\")\n",
    "elif codigo_compra == 5444:\n",
    "  print(\"Compra á prazo no cartão.\")\n",
    "else:\n",
    "  print(\"Código não cadastrado\")"
   ]
  },
  {
   "cell_type": "code",
   "execution_count": null,
   "metadata": {},
   "outputs": [],
   "source": [
    "qtde_faltas = int(input(\"Digite a quantidade de faltas: \"))\n",
    "media_final = float(input(\"Digite a média final: \"))\n",
    "\n",
    "if qtde_faltas <= 5 and media_final >= 7:\n",
    "  print(\"Aluno aprovado!\")\n",
    "else:\n",
    "  print(\"Aluno reprovado!\")"
   ]
  },
  {
   "cell_type": "code",
   "execution_count": null,
   "metadata": {},
   "outputs": [],
   "source": [
    "a = 15\n",
    "b = 9\n",
    "c = 9\n",
    "\n",
    "print( b ==c or a < b and a < c)\n",
    "print((b == c or a < b)and a < c)"
   ]
  },
  {
   "cell_type": "code",
   "execution_count": null,
   "metadata": {},
   "outputs": [],
   "source": [
    "numero = 1\n",
    "while numero != 0:\n",
    "  numero = int(input(\"Digite um número: \"))\n",
    "  if numero % 2 == 0:\n",
    "    print(\"Número é par!\")\n",
    "  else:\n",
    "    print(\"Número é ímpar!\")"
   ]
  },
  {
   "cell_type": "code",
   "execution_count": null,
   "metadata": {},
   "outputs": [],
   "source": [
    "nome = \"Guido\"\n",
    "for c in nome:\n",
    "  print(c)"
   ]
  },
  {
   "cell_type": "code",
   "execution_count": null,
   "metadata": {},
   "outputs": [],
   "source": [
    "nome = \"Guido\"\n",
    "for i, c in enumerate(nome):\n",
    "  print(f\"Posição = {i}, valor = {c}\")"
   ]
  },
  {
   "cell_type": "code",
   "execution_count": null,
   "metadata": {},
   "outputs": [],
   "source": [
    "for x in range(5):\n",
    "  print(x)"
   ]
  },
  {
   "cell_type": "code",
   "execution_count": null,
   "metadata": {},
   "outputs": [],
   "source": [
    "#Metodo 1\n",
    "for i in range(10):\n",
    "  print(i)\n",
    "\n",
    "#Metodo 2\n",
    "for i in range(0, 5):\n",
    "  print(i)\n",
    "\n",
    "#Metdodo 3\n",
    "for i in range(0, 20, 2):\n",
    "  print(i)"
   ]
  },
  {
   "cell_type": "code",
   "execution_count": null,
   "metadata": {},
   "outputs": [],
   "source": [
    "#Exemplo de uso do break\n",
    "disciplina = \"Linguagem de Programação\"\n",
    "for c in disciplina:\n",
    "  if c == \"a\":\n",
    "    break\n",
    "  else:\n",
    "    print(c)"
   ]
  },
  {
   "cell_type": "code",
   "execution_count": null,
   "metadata": {},
   "outputs": [],
   "source": [
    "#Exemplo do uso do continue\n",
    "disciplina = \"Linguagem de Programação\"\n",
    "for c in disciplina:\n",
    "  if c == \"a\":\n",
    "    continue\n",
    "  else:\n",
    "    print(c)"
   ]
  },
  {
   "cell_type": "code",
   "execution_count": null,
   "metadata": {},
   "outputs": [],
   "source": [
    "texto = \"\"\"\n",
    "A inserção de comentários no código do programa é uma prática normal.\n",
    "Em função disso, toda linguagem de programação tem alguma maneira de permitir que comentários sejam inseridos nos programas.\n",
    "O objetivo é adicionar descrições em partes do código, seja para documentá-lo ou para adicionar uma descrição do algoritmo implementado (BANIN, p.45, 2018).\"\n",
    "\"\"\"\n",
    "\n",
    "for i, c in enumerate(texto):\n",
    "  if c == \"a\" or c == \"e\":\n",
    "    print(f\"Vogal '{c}' encontrada, na posição {i}\")\n",
    "  else:\n",
    "    continue"
   ]
  },
  {
   "cell_type": "code",
   "execution_count": null,
   "metadata": {},
   "outputs": [],
   "source": [
    "salario = 0\n",
    "salario = float(input(\"Digite o salário do colaborador: \"))\n",
    "\n",
    "if salario <= 1903.98:\n",
    "  print(f\"O colaborador isento de imposto.\")\n",
    "elif salario <= 2826.65:\n",
    "  print(f\"O colaborador deve pagar R$142,80 de imposto.\")\n",
    "elif salario <= 3751.05:\n",
    "  print(f\"O colaborador deve pagar R$354,80 de imposto.\")\n",
    "elif salario <= 4664.68:\n",
    "  print(f\"O colaborador deve pagar R$636,13 de imposto.\")\n",
    "else:\n",
    "  print(f\"O colaborador deve pagar R$869,36 de imposto.\")"
   ]
  },
  {
   "cell_type": "code",
   "execution_count": null,
   "metadata": {},
   "outputs": [],
   "source": [
    "salario = 0\n",
    "salario = float(input(\"Digite o salário do colaborador: \"))\n",
    "\n",
    "if salario <= 1903.98:\n",
    "  print(f\"O colaborador isento de imposto.\")\n",
    "  print(f\"Salário a receber = {salario}\")\n",
    "elif salario <= 2826.65:\n",
    "  print(f\"O colaborador deve pagar R$142,80 de imposto.\")\n",
    "  print(f\"Salário a receber = {salario - 142.80}\")\n",
    "elif salario <= 3751.05:\n",
    "  print(f\"O colaborador deve pagar R$354,80 de imposto.\")\n",
    "  print(f\"Salário a receber = {salario - 354.80}\")\n",
    "elif salario <= 4664.68:\n",
    "  print(f\"O colaborador deve pagar R$636,13 de imposto.\")\n",
    "  print(f\"Salário a receber = {salario - 636.13}\")\n",
    "else:\n",
    "  print(f\"O colaborador deve pagar R$869,36 de imposto.\")\n",
    "  print(f\"Salário a receber = {salario - 869.36}\")"
   ]
  }
 ],
 "metadata": {
  "language_info": {
   "name": "python"
  },
  "orig_nbformat": 4
 },
 "nbformat": 4,
 "nbformat_minor": 2
}
