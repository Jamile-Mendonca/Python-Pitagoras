{
 "cells": [
  {
   "cell_type": "code",
   "execution_count": null,
   "metadata": {},
   "outputs": [],
   "source": [
    "a = 2\n",
    "b = 1\n",
    "\n",
    "equacao = input(\"Digite a fórmula geral da equação linear (a * x + b): \")\n",
    "print(f\"\\nA entrada do usuário {equacao} é do tipo {type(equacao)}\")\n",
    "\n",
    "for x in range(5):\n",
    "    y = eval(equacao)\n",
    "print(f\"\\nResultado da equação para x = {x} é {y}\")\n"
   ]
  },
  {
   "cell_type": "code",
   "execution_count": null,
   "metadata": {},
   "outputs": [],
   "source": [
    "#bloco de comandos\n",
    "#def nome_funcao():\n",
    "def imprimir_mensagem(disciplina, curso):\n",
    "  print(f\"Minha primeira função em Python desenvolvida na disciplina: {disciplina}, do curso: {curso}.\")\n",
    "\n",
    "imprimir_mensagem(\"Python\", \"ADS\")"
   ]
  },
  {
   "cell_type": "code",
   "execution_count": null,
   "metadata": {},
   "outputs": [],
   "source": [
    "def imprimir_mensagem(disciplina, curso):\n",
    "  print(f\"Minha primeira função em Python desenvolvida na disciplina: {disciplina}, do curso: {curso}.\")\n",
    "\n",
    "resultado = imprimir_mensagem(\"Python\", \"ADS\")\n",
    "print(f\"Resultado = {resultado}\")"
   ]
  },
  {
   "cell_type": "code",
   "execution_count": null,
   "metadata": {},
   "outputs": [],
   "source": [
    "def imprimir_mensagem(disciplina, curso):\n",
    "  return f\"Minha primeira função em Python desenvolvida na disciplina: {disciplina}, do curso: {curso}.\"\n",
    "\n",
    "mensagem = imprimir_mensagem(\"Python\", \"ADS\")\n",
    "print(mensagem)"
   ]
  },
  {
   "cell_type": "code",
   "execution_count": null,
   "metadata": {},
   "outputs": [],
   "source": [
    "def converter_mes_para_extenso(data):\n",
    "    mes = '''janeiro fevereiro março\n",
    "      abril maio junho julho agosto\n",
    "      setembro outubro novembro\n",
    "      dezembro'''.split()\n",
    "    d, m, a = data.split('/')\n",
    "    mes_extenso = mes[int(m) - 1] # O mês 1, estará na posição 0!\n",
    "    return f'{d} de {mes_extenso} de {a}'\n",
    "\n",
    "print(converter_mes_para_extenso('10/05/2021'))"
   ]
  }
 ],
 "metadata": {
  "kernelspec": {
   "display_name": "Python 3.10.6 64-bit",
   "language": "python",
   "name": "python3"
  },
  "language_info": {
   "name": "python",
   "version": "3.10.6"
  },
  "orig_nbformat": 4,
  "vscode": {
   "interpreter": {
    "hash": "b4dba4864bea2b16e9d049f7462fb8e5378e56d4e09bbfbe75d71e1717633781"
   }
  }
 },
 "nbformat": 4,
 "nbformat_minor": 2
}
