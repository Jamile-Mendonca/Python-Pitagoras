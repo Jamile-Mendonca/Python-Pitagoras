{
 "cells": [
  {
   "cell_type": "code",
   "execution_count": null,
   "metadata": {},
   "outputs": [],
   "source": [
    "def calcular_desconto(valor, desconto=0): # O parâmetro desconto possui zero valor default\n",
    "    valor_com_desconto = valor - (valor * desconto)\n",
    "    return valor_com_desconto\n",
    "\n",
    "valor1 = calcular_desconto(100) # Não aplicar nenhum desconto\n",
    "valor2 = calcular_desconto(100, 0.25) # Aplicar desconto de 25%\n",
    "\n",
    "print(f\"\\nPrimeiro valor a ser pago = {valor1}\")\n",
    "print(f\"\\nSegundo valor a ser pago = {valor2}\")\n"
   ]
  },
  {
   "cell_type": "code",
   "execution_count": null,
   "metadata": {},
   "outputs": [],
   "source": [
    "def cadastrar_pessoa(nome, idade, cidade):\n",
    "    print(\"\\nDados a serem cadastrados:\")\n",
    "    print(f\"Nome: {nome}\")\n",
    "    print(f\"Idade: {idade}\")\n",
    "    print(f\"Cidade: {cidade}\")\n",
    "    \n",
    "\n",
    "cadastrar_pessoa(\"João\", 23, \"São Paulo\")\n",
    "cadastrar_pessoa(\"São Paulo\", \"João\", 23) #erro lógico pois os dados não foram informados na ordem\n"
   ]
  },
  {
   "cell_type": "code",
   "execution_count": null,
   "metadata": {},
   "outputs": [],
   "source": [
    "def converter_maiuscula(texto, flag_maiuscula):\n",
    "  if flag_maiuscula:\n",
    "    return texto.upper()\n",
    "  else:\n",
    "    return texto.lower()\n",
    "\n",
    "texto = converter_maiuscula(flag_maiuscula=True, texto=\"João\") #Passagem nominal de parâmetro\n",
    "print(texto)"
   ]
  },
  {
   "cell_type": "code",
   "execution_count": null,
   "metadata": {},
   "outputs": [],
   "source": [
    "def converter_minuscula(texto, flag_minuscula=True): #O parâmetro flag_minuscula possui True como valor default\n",
    "  if flag_minuscula:\n",
    "    return texto.lower()\n",
    "  else:\n",
    "    return texto.upper()\n",
    "\n",
    "texto1 = converter_minuscula(flag_minuscula=True, texto = \"LINGUAGEM de Programação\" )\n",
    "texto2 = converter_minuscula(texto=\"LINGUAGEM de programação\")\n",
    "\n",
    "print(f\"\\nTexto 1 = {texto1}\")\n",
    "\n",
    "print(f\"\\nTexto 2 = {texto2}\")\n"
   ]
  },
  {
   "cell_type": "code",
   "execution_count": null,
   "metadata": {},
   "outputs": [],
   "source": [
    "def imprimir_parametros(*args):\n",
    "    qtde_parametros = len(args)\n",
    "    print(f\"Quantidade de parâmetros = {qtde_parametros}\")\n",
    "    \n",
    "    for i, valor in enumerate(args):\n",
    "        print(f\"Posição = {i}, valor = {valor}\")\n",
    "\n",
    "        \n",
    "print(\"\\nChamada 1\")        \n",
    "imprimir_parametros(\"São Paulo\", 10, 23.78, \"João\")\n",
    "\n",
    "print(\"\\nChamada 2\")        \n",
    "imprimir_parametros(10, \"São Paulo\")"
   ]
  },
  {
   "cell_type": "code",
   "execution_count": null,
   "metadata": {},
   "outputs": [],
   "source": [
    "def imprimir_parametros(**kwargs):\n",
    "  print(f\"Tipo de objeto recebido = {type(kwargs)}\\n\")\n",
    "  qtde_parametros = len(kwargs)\n",
    "  print(f\"Quantidade de parametros = {qtde_parametros}\")\n",
    "\n",
    "  for chave, valor in kwargs.items():\n",
    "    print(f\"variável = {chave}, valor = {valor}\")\n",
    "\n",
    "print(\"\\nChamada 1\")\n",
    "imprimir_parametros(cidade=\"São Paulo\", idade=33, nome=\"João\")\n",
    "\n",
    "print(\"\\nChamada 2\")\n",
    "imprimir_parametros(desconto=10, valor= 100)"
   ]
  },
  {
   "cell_type": "code",
   "execution_count": null,
   "metadata": {},
   "outputs": [],
   "source": [
    "(lambda x: x + 1) (x=3) #lambda função anônima"
   ]
  },
  {
   "cell_type": "code",
   "execution_count": null,
   "metadata": {},
   "outputs": [],
   "source": [
    "(lambda x, y: x + y) (x=3, y=2)"
   ]
  },
  {
   "cell_type": "code",
   "execution_count": null,
   "metadata": {},
   "outputs": [],
   "source": [
    "somar = lambda x, y: x + y\n",
    "somar(x=5, y=3)"
   ]
  },
  {
   "cell_type": "code",
   "execution_count": null,
   "metadata": {},
   "outputs": [],
   "source": [
    "def calcular_valor(valor_prod, qtde, moeda=\"real\", desconto=None, acrescimo=None):\n",
    "  v_bruto = valor_prod * qtde\n",
    "\n",
    "  if desconto:\n",
    "   v_liquido = v_bruto - (v_bruto * (desconto / 100))\n",
    "  elif acrescimo:\n",
    "   v_liquido = v_bruto + (v_bruto * (acrescimo / 100))\n",
    "  else:\n",
    "    v_liquido = v_bruto\n",
    "\n",
    "  if moeda == \"real\":\n",
    "    return v_liquido\n",
    "  elif moeda == \"dolar\":\n",
    "    return v_liquido * 5\n",
    "  elif moeda == \"euro\":\n",
    "    return v_liquido * 5.7\n",
    "  else:\n",
    "    print(\"Moeda não cadastrada!\")\n",
    "    return 0\n",
    "\n",
    "valor_a_pagar = calcular_valor(valor_prod=32, qtde=5, desconto=5)\n",
    "print(f\"O valor final da conta é {valor_a_pagar}\")\n"
   ]
  },
  {
   "cell_type": "code",
   "execution_count": null,
   "metadata": {},
   "outputs": [],
   "source": [
    "def calcular_valor(valor_prod, qtde, moeda=\"real\", **kwargs):\n",
    "    v_bruto = valor_prod * qtde\n",
    "    \n",
    "    if 'desconto' in kwargs:\n",
    "        desconto = kwargs['desconto']\n",
    "        v_liquido = v_bruto - (v_bruto * (desconto / 100))\n",
    "    elif 'acrescimo' in kwargs:\n",
    "        acrescimo = kwargs['acrescimo']\n",
    "        v_liquido = v_bruto + (v_bruto * (acrescimo / 100))\n",
    "    else:\n",
    "        v_liquido = v_bruto\n",
    "    \n",
    "    if moeda == 'real':\n",
    "        return v_liquido\n",
    "    elif moeda == 'dolar':\n",
    "        return v_liquido * 5\n",
    "    elif moeda == 'euro':\n",
    "        return v_liquido * 5.7\n",
    "    else:\n",
    "        print(\"Moeda não cadastrada!\")\n",
    "        return 0\n",
    "\n",
    "    \n",
    "valor_a_pagar = calcular_valor(valor_prod=32, qtde=5, desconto=5)\n",
    "print(f\"O valor final da conta é {valor_a_pagar}\")"
   ]
  }
 ],
 "metadata": {
  "kernelspec": {
   "display_name": "Python 3.10.6 64-bit",
   "language": "python",
   "name": "python3"
  },
  "language_info": {
   "name": "python",
   "version": "3.10.6"
  },
  "orig_nbformat": 4,
  "vscode": {
   "interpreter": {
    "hash": "b4dba4864bea2b16e9d049f7462fb8e5378e56d4e09bbfbe75d71e1717633781"
   }
  }
 },
 "nbformat": 4,
 "nbformat_minor": 2
}
