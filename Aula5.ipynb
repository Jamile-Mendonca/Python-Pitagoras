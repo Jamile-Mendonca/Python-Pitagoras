{
 "cells": [
  {
   "cell_type": "code",
   "execution_count": null,
   "metadata": {},
   "outputs": [],
   "source": [
    "import pandas as pd\n",
    "pd.Series(data=5) # Cria uma Series com o valor a\n",
    "\n",
    "lista_nomes = 'Howard Ian Peter Jonah Kellie'.split()\n",
    "\n",
    "pd.Series(lista_nomes) # Cria uma Series com uma lista de nomes\n",
    "\n",
    "dados = {\n",
    "    'nome1': 'Howard',\n",
    "    'nome2': 'Ian',\n",
    "    'nome3': 'Peter',\n",
    "    'nome4': 'Jonah',\n",
    "    'nome5': 'Kellie',\n",
    "}\n",
    "\n",
    "pd.Series(dados) # Cria uma Series com um dicionário"
   ]
  },
  {
   "cell_type": "code",
   "execution_count": null,
   "metadata": {},
   "outputs": [],
   "source": [
    "cpfs = '111.111.111-11 222.222.222-22 333.333.333-33 444.444.444-44 555.555.555-55'.split()\n",
    "\n",
    "pd.Series(lista_nomes, index=cpfs)"
   ]
  },
  {
   "cell_type": "code",
   "execution_count": null,
   "metadata": {},
   "outputs": [],
   "source": [
    "series_dados = pd.Series(lista_nomes, index=cpfs)\n",
    "\n",
    "series_dados.loc['111.111.111-11']"
   ]
  }
 ],
 "metadata": {
  "language_info": {
   "name": "python"
  },
  "orig_nbformat": 4
 },
 "nbformat": 4,
 "nbformat_minor": 2
}
